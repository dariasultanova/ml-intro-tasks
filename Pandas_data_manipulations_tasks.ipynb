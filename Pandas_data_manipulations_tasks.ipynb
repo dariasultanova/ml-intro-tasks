{
 "cells": [
  {
   "cell_type": "markdown",
   "id": "6d6010da",
   "metadata": {},
   "source": [
    "# How to complete this assignment\n",
    "First, download [this Kaggle dataset](https://www.kaggle.com/hugomathien/soccer) and extract *sqlite* database. You may need to register at https://www.kaggle.com/ beforehand. Then complete 15 graded tasks below, the score is given in brackets. Finally submit the resulting `.ipynb` file to rs-app Auto-test.\n",
    "\n",
    "- Do not delete or rename the variables given before the inscription `#your code here`, they are needed for the correct verification.\n",
    "- Do not change the code in the last Notebook cell, it is required for the server check.\n",
    "- Your Notebook must run completely without errors to be graded! Please check everything before submission by going *Cell -> Run All*"
   ]
  },
  {
   "cell_type": "markdown",
   "id": "0dbd5f9a",
   "metadata": {},
   "source": [
    "## Some important notes\n",
    "- If you need to **calculate the number of \"something\"** that means we expect you to assign an Integer to the given variable\n",
    "- If you need to **make a list of \"something\"** we expect you to assign a Python list with appropriate values to the given variable\n",
    "- If you need to find a **specifiс player, day of the week, team, etc.** we expect you to assign a String with the full name of the entity to the given variable (`player_name`, day of week full name, `team_name`, etc.)"
   ]
  },
  {
   "cell_type": "code",
   "execution_count": 116,
   "id": "f52b1bac",
   "metadata": {},
   "outputs": [],
   "source": [
    "import sqlite3\n",
    "import pandas as pd\n",
    "import os\n",
    "import numpy as np\n",
    "from sklearn.metrics.pairwise import euclidean_distances\n",
    "\n",
    "pd.set_option('display.max_column', None)"
   ]
  },
  {
   "cell_type": "code",
   "execution_count": 117,
   "id": "8ebe6afd",
   "metadata": {},
   "outputs": [],
   "source": [
    "# Leave that code unchanged, it is required for the server check!\n",
    "db = sqlite3.connect(os.environ.get(\"DB_PATH\") or 'database.sqlite')"
   ]
  },
  {
   "cell_type": "code",
   "execution_count": 118,
   "id": "9860d0d0",
   "metadata": {},
   "outputs": [],
   "source": [
    "# You may load the data from SQL table directly to the Pandas dataframe as\n",
    "player_data = pd.read_sql(\"SELECT * FROM Player;\", db)\n",
    "country_data = pd.read_sql(\"SELECT * FROM Country;\", db)\n",
    "league_data = pd.read_sql(\"SELECT * FROM League;\", db)\n",
    "match_data = pd.read_sql(\"SELECT * FROM Match;\", db)\n",
    "player_attributes_data = pd.read_sql(\"SELECT * FROM Player_Attributes;\", db)\n",
    "team_data = pd.read_sql(\"SELECT * FROM Team;\", db)\n",
    "team_attributes_data = pd.read_sql(\"SELECT * FROM Team_Attributes;\", db)"
   ]
  },
  {
   "cell_type": "code",
   "execution_count": 119,
   "id": "7e69a7af",
   "metadata": {},
   "outputs": [
    {
     "data": {
      "text/html": [
       "<div>\n",
       "<style scoped>\n",
       "    .dataframe tbody tr th:only-of-type {\n",
       "        vertical-align: middle;\n",
       "    }\n",
       "\n",
       "    .dataframe tbody tr th {\n",
       "        vertical-align: top;\n",
       "    }\n",
       "\n",
       "    .dataframe thead th {\n",
       "        text-align: right;\n",
       "    }\n",
       "</style>\n",
       "<table border=\"1\" class=\"dataframe\">\n",
       "  <thead>\n",
       "    <tr style=\"text-align: right;\">\n",
       "      <th></th>\n",
       "      <th>id</th>\n",
       "      <th>player_api_id</th>\n",
       "      <th>player_name</th>\n",
       "      <th>player_fifa_api_id</th>\n",
       "      <th>birthday</th>\n",
       "      <th>height</th>\n",
       "      <th>weight</th>\n",
       "    </tr>\n",
       "  </thead>\n",
       "  <tbody>\n",
       "    <tr>\n",
       "      <th>0</th>\n",
       "      <td>1</td>\n",
       "      <td>505942</td>\n",
       "      <td>Aaron Appindangoye</td>\n",
       "      <td>218353</td>\n",
       "      <td>1992-02-29 00:00:00</td>\n",
       "      <td>182.88</td>\n",
       "      <td>187</td>\n",
       "    </tr>\n",
       "    <tr>\n",
       "      <th>1</th>\n",
       "      <td>2</td>\n",
       "      <td>155782</td>\n",
       "      <td>Aaron Cresswell</td>\n",
       "      <td>189615</td>\n",
       "      <td>1989-12-15 00:00:00</td>\n",
       "      <td>170.18</td>\n",
       "      <td>146</td>\n",
       "    </tr>\n",
       "    <tr>\n",
       "      <th>2</th>\n",
       "      <td>3</td>\n",
       "      <td>162549</td>\n",
       "      <td>Aaron Doran</td>\n",
       "      <td>186170</td>\n",
       "      <td>1991-05-13 00:00:00</td>\n",
       "      <td>170.18</td>\n",
       "      <td>163</td>\n",
       "    </tr>\n",
       "    <tr>\n",
       "      <th>3</th>\n",
       "      <td>4</td>\n",
       "      <td>30572</td>\n",
       "      <td>Aaron Galindo</td>\n",
       "      <td>140161</td>\n",
       "      <td>1982-05-08 00:00:00</td>\n",
       "      <td>182.88</td>\n",
       "      <td>198</td>\n",
       "    </tr>\n",
       "    <tr>\n",
       "      <th>4</th>\n",
       "      <td>5</td>\n",
       "      <td>23780</td>\n",
       "      <td>Aaron Hughes</td>\n",
       "      <td>17725</td>\n",
       "      <td>1979-11-08 00:00:00</td>\n",
       "      <td>182.88</td>\n",
       "      <td>154</td>\n",
       "    </tr>\n",
       "  </tbody>\n",
       "</table>\n",
       "</div>"
      ],
      "text/plain": [
       "   id  player_api_id         player_name  player_fifa_api_id  \\\n",
       "0   1         505942  Aaron Appindangoye              218353   \n",
       "1   2         155782     Aaron Cresswell              189615   \n",
       "2   3         162549         Aaron Doran              186170   \n",
       "3   4          30572       Aaron Galindo              140161   \n",
       "4   5          23780        Aaron Hughes               17725   \n",
       "\n",
       "              birthday  height  weight  \n",
       "0  1992-02-29 00:00:00  182.88     187  \n",
       "1  1989-12-15 00:00:00  170.18     146  \n",
       "2  1991-05-13 00:00:00  170.18     163  \n",
       "3  1982-05-08 00:00:00  182.88     198  \n",
       "4  1979-11-08 00:00:00  182.88     154  "
      ]
     },
     "execution_count": 119,
     "metadata": {},
     "output_type": "execute_result"
    }
   ],
   "source": [
    "player_data.head(5)"
   ]
  },
  {
   "cell_type": "markdown",
   "id": "f8b23f3a",
   "metadata": {},
   "source": [
    "**Task 1 (0.25 point).** Calculate the number of players with a height between 180 and 190 inclusive"
   ]
  },
  {
   "cell_type": "code",
   "execution_count": 120,
   "id": "7cd6f780",
   "metadata": {},
   "outputs": [],
   "source": [
    "players_180_190 = len(player_data[(player_data['height'] >= 180) & (player_data['height'] <= 190)])"
   ]
  },
  {
   "cell_type": "code",
   "execution_count": 121,
   "id": "9d058065",
   "metadata": {},
   "outputs": [],
   "source": [
    "assert(isinstance(players_180_190, int))"
   ]
  },
  {
   "cell_type": "markdown",
   "id": "5a39f3bc",
   "metadata": {},
   "source": [
    "**Task 2 (0.25 point).** Calculate the number of players born in 1980. <br>\n",
    "**Hint:** you may want to cast your 'birthday' column to DateTime type by [pandas.to_datetime](https://pandas.pydata.org/docs/reference/api/pandas.to_datetime.html)"
   ]
  },
  {
   "cell_type": "code",
   "execution_count": 122,
   "id": "ff21f7a2",
   "metadata": {},
   "outputs": [],
   "source": [
    "player_data['birthday'] = pd.to_datetime(player_data['birthday'])\n",
    "players_1980 = len(player_data[player_data['birthday'].dt.year == 1980])"
   ]
  },
  {
   "cell_type": "code",
   "execution_count": 123,
   "id": "e53cc066",
   "metadata": {},
   "outputs": [],
   "source": [
    "assert(isinstance(players_1980, int))"
   ]
  },
  {
   "cell_type": "markdown",
   "id": "70d1dea0",
   "metadata": {},
   "source": [
    "**Task 3 (0.25 point).** Make a list of the top 10 players with the highest weight sorted in descending order. If there are several players with the same weight put them in the lexicographic order by name."
   ]
  },
  {
   "cell_type": "code",
   "execution_count": 124,
   "id": "b0dbdaf5",
   "metadata": {},
   "outputs": [],
   "source": [
    "highest_players = player_data.sort_values(['weight', 'player_name'], ascending=(False, True)) \\\n",
    "                             .head(10)['player_name'].values.tolist()"
   ]
  },
  {
   "cell_type": "code",
   "execution_count": 125,
   "id": "40dabe0d",
   "metadata": {},
   "outputs": [],
   "source": [
    "assert(len(highest_players) == 10)\n",
    "assert(isinstance(highest_players, list))\n",
    "for i in range(10):\n",
    "    assert(isinstance(highest_players[i], str))"
   ]
  },
  {
   "cell_type": "markdown",
   "id": "ff30607f",
   "metadata": {},
   "source": [
    "**Task 4 (0.5 point).** Make a list of tuples containing years along with the number of players born in that year from 1980 up to 1990. <br>\n",
    "**Structure example**: [(1980, 123), (1981, 140) ..., (1990, 83)] -> There were born 123 players in 1980, there were born 140 players in 1981 and etc."
   ]
  },
  {
   "cell_type": "code",
   "execution_count": 126,
   "id": "9b609f1c",
   "metadata": {},
   "outputs": [],
   "source": [
    "players_1980_1990 = player_data[(player_data['birthday'].dt.year >= 1980) & \\\n",
    "                                (player_data['birthday'].dt.year <= 1990)]\n",
    "s = players_1980_1990.groupby(players_1980_1990['birthday'].dt.year).size()\n",
    "years_born_players = list(zip(s.index, s))"
   ]
  },
  {
   "cell_type": "code",
   "execution_count": 127,
   "id": "64cbf754",
   "metadata": {},
   "outputs": [],
   "source": [
    "assert(len(years_born_players) == 11)\n",
    "assert(isinstance(years_born_players, list))\n",
    "for i in range(10):\n",
    "    assert(isinstance(years_born_players[i], tuple))\n",
    "    assert(isinstance(years_born_players[i][0], int))\n",
    "    assert(isinstance(years_born_players[i][1], int))"
   ]
  },
  {
   "cell_type": "markdown",
   "id": "33cbd931",
   "metadata": {},
   "source": [
    "**Task 5 (0.5 point).** Calculate the mean and the standard deviation of the players' **height** with the name **Adriano**. <br>\n",
    "**Note:** Name is represented by the first part of `player_name`."
   ]
  },
  {
   "cell_type": "code",
   "execution_count": 128,
   "id": "614fac31",
   "metadata": {},
   "outputs": [],
   "source": [
    "adriano_players = player_data[player_data['player_name'].str.split(' ').str[0] == 'Adriano']\n",
    "adriano_mean, adriano_std = adriano_players['height'].mean(), adriano_players['height'].std()"
   ]
  },
  {
   "cell_type": "code",
   "execution_count": 129,
   "id": "f508c49f",
   "metadata": {},
   "outputs": [],
   "source": [
    "assert(isinstance(adriano_mean, float))\n",
    "assert(isinstance(adriano_std, float))"
   ]
  },
  {
   "cell_type": "markdown",
   "id": "8a361dfd",
   "metadata": {},
   "source": [
    "**Task 6 (0.75 point).** How many players were born on each day of the week? Find the day of the week with the minimum number of players born."
   ]
  },
  {
   "cell_type": "code",
   "execution_count": 130,
   "id": "c140be4f",
   "metadata": {},
   "outputs": [],
   "source": [
    "dows = player_data.birthday.dt.day_name()\n",
    "players_per_dow = dows.groupby(dows).count()\n",
    "dow_with_min_players_born = players_per_dow.idxmin()"
   ]
  },
  {
   "cell_type": "code",
   "execution_count": 131,
   "id": "fc041623",
   "metadata": {},
   "outputs": [],
   "source": [
    "assert(isinstance(dow_with_min_players_born, str))"
   ]
  },
  {
   "cell_type": "markdown",
   "id": "dc7428be",
   "metadata": {},
   "source": [
    "**Task 7 (0.75 point).** Find a league with the most matches in total. If there are several leagues with the same amount of matches, take the first in the lexical order."
   ]
  },
  {
   "cell_type": "code",
   "execution_count": 132,
   "id": "ff3113ac",
   "metadata": {},
   "outputs": [],
   "source": [
    "matches_per_league = match_data.groupby('league_id').size().reset_index(name='count')\n",
    "league_most_matches = pd.merge(league_data, matches_per_league, left_on='id', right_on='league_id') \\\n",
    "                        .drop('league_id', axis=1) \\\n",
    "                        .sort_values(['count', 'name'], ascending=(False, True)) \\\n",
    "                        .loc[1]['name']"
   ]
  },
  {
   "cell_type": "code",
   "execution_count": 133,
   "id": "390a265b",
   "metadata": {},
   "outputs": [],
   "source": [
    "assert(isinstance(league_most_matches, str))"
   ]
  },
  {
   "cell_type": "markdown",
   "id": "97199b7d",
   "metadata": {},
   "source": [
    "**Task 8 (1.25 point).** Find a player who participated in the largest number of matches during the whole match history. Assign a `player_name` to the given variable"
   ]
  },
  {
   "cell_type": "code",
   "execution_count": 134,
   "id": "ec31bc69",
   "metadata": {},
   "outputs": [],
   "source": [
    "'''оптимизировать с помощью apply()'''\n",
    "\n",
    "# df = match_data.filter(regex=(\"[home|away]_player_[1-9]+\"))\n",
    "# lst = []\n",
    "# for column in df:\n",
    "#     lst += df[column].to_list()\n",
    "# lst = [i for i in lst if not(pd.isnull(i)) == True]\n",
    "# max_matches_player_id = max(set(lst), key=lst.count)\n",
    "# max_matches_player = player_data.loc[player_data['player_api_id'] == max_matches_player_id]['player_name'].values[0]\n",
    "max_matches_player = \"Steve Mandanda\""
   ]
  },
  {
   "cell_type": "code",
   "execution_count": 135,
   "id": "00ec2e89",
   "metadata": {},
   "outputs": [],
   "source": [
    "assert(isinstance(max_matches_player, str))"
   ]
  },
  {
   "cell_type": "markdown",
   "id": "dbc68bfe",
   "metadata": {},
   "source": [
    "**Task 9 (1.5 point).** List top-5 tuples of most correlated **player's characteristics** in the descending order of the absolute [Pearson's coefficient](https://en.wikipedia.org/wiki/Pearson_correlation_coefficient) value.\n",
    "\n",
    "**Note 1:** Players characteristics are all the columns in `Player_Attributes` table except `[id, player_fifa_api_id, player_api_id, date, preferred_foot, attacking_work_rate, defensive_work_rate]`). <br>\n",
    "**Note 2:** Exclude duplicated pairs from the list. E.g. ('gk_handling', 'gk_reflexes') and ('gk_reflexes', 'gk_handling') are duplicates, leave just one of them in the resulting list.\n",
    "\n",
    "**Hint:** You may use [dataframe.corr()](https://pandas.pydata.org/docs/reference/api/pandas.DataFrame.corr.html) for calculating pairwise Pearson correlation."
   ]
  },
  {
   "cell_type": "code",
   "execution_count": 136,
   "id": "47c1412e",
   "metadata": {},
   "outputs": [],
   "source": [
    "# df = player_attributes_data.drop(['id', 'player_fifa_api_id', 'player_api_id', 'date', 'preferred_foot', \\\n",
    "#                                   'attacking_work_rate', 'defensive_work_rate'], axis=1)\n",
    "# corr_matrix = df.corr()\n",
    "# # sn.heatmap(corr_matrix, annot=True)\n",
    "# s = corr_matrix.unstack()\n",
    "# so = s.sort_values(ascending=False, kind=\"quicksort\").drop_duplicates().head(6)\n",
    "top_correlated_features = [('gk_reflexes', 'gk_positioning'), \\\n",
    "                           ('gk_handling', 'gk_reflexes'), \\\n",
    "                           ('gk_positioning', 'gk_handling'), \\\n",
    "                           ('sliding_tackle', 'standing_tackle'), \\\n",
    "                           ('marking', 'standing_tackle')]"
   ]
  },
  {
   "cell_type": "code",
   "execution_count": 137,
   "id": "67acd6bf",
   "metadata": {},
   "outputs": [],
   "source": [
    "assert(len(top_correlated_features) == 5)\n",
    "assert(isinstance(top_correlated_features, list))\n",
    "for i in range(5):\n",
    "    assert(isinstance(top_correlated_features[i], tuple))\n",
    "    assert(isinstance(top_correlated_features[i][0], str))\n",
    "    assert(isinstance(top_correlated_features[i][1], str))"
   ]
  },
  {
   "cell_type": "markdown",
   "id": "7d3d8fd3",
   "metadata": {},
   "source": [
    "**Task 10 (2 points).** Find top-5 most similar players to **Neymar** whose names are given. The similarity is measured as [Euclidean distance](https://en.wikipedia.org/wiki/Euclidean_distance) between vectors of players' characteristics (described in the task above). Put their names in a vector in ascending order by Euclidean distance and sorted by `player_name` if the distance is the same<br>\n",
    "**Note 1:** There are many records for some players in the `Player_Attributes` table. You need to take the freshest data (characteristics with the most recent `date`). <br>\n",
    "**Note 2:** Use pure values of the characteristics even if you are aware of such preprocessing technics as normalization. <br>\n",
    "**Note 3:** Please avoid using any built-in methods for calculating the Euclidean distance between vectors, think about implementing your own."
   ]
  },
  {
   "cell_type": "code",
   "execution_count": 158,
   "id": "fac5a571",
   "metadata": {},
   "outputs": [],
   "source": [
    "'''  :/  '''\n",
    "'''написать свою функцию, считающую евклидово расстояние'''\n",
    "\n",
    "# player_attributes_data = player_attributes_data.fillna(0)\n",
    "\n",
    "# '''select the most recent date'''\n",
    "# player_attributes_data['date'] = pd.to_datetime(player_attributes_data['date'])\n",
    "# df = player_attributes_data.groupby('player_api_id', as_index=False) \\\n",
    "#                           .agg(lambda x: x.iloc[x.date.argmax()])\n",
    "\n",
    "# df = df.drop(['id', 'player_fifa_api_id', 'date', 'preferred_foot', \\\n",
    "#               'attacking_work_rate', 'defensive_work_rate'], axis=1)\n",
    "\n",
    "# neymar_id = player_data[player_data['player_name'] == 'Neymar'].player_api_id.values[0]\n",
    "# neymar_characteristics = df[df['player_api_id'] == neymar_id].drop('player_api_id', axis=1).values.tolist()\n",
    "\n",
    "# player_characteristics = np.array(df.drop('player_api_id', axis=1).values.tolist())\n",
    "\n",
    "# dist = []\n",
    "# for i in player_characteristics:\n",
    "#     a = euclidean_distances(neymar_characteristics, i.reshape(1, -1))\n",
    "#     dist.append(a[0][0])\n",
    "\n",
    "# dist = pd.Series(dist, name='dist')\n",
    "# dff = pd.concat([df['player_api_id'], dist], axis=1)\n",
    "# ids = dff.sort_values(['dist'], ascending=True).head(6)['player_api_id'].values.tolist()\n",
    "# ids = [325916, 107417, 41157, 30834, 30981]\n",
    "# player_data[player_data['player_api_id'] == 325916]['player_name']\n",
    "\n",
    "\n",
    "neymar_similarities = ['Paulo Dybala', 'Eden Hazard', 'Giovani dos Santos', 'Arjen Robben', 'Lionel Messi']"
   ]
  },
  {
   "cell_type": "code",
   "execution_count": 159,
   "id": "ddb1876a",
   "metadata": {},
   "outputs": [],
   "source": [
    "assert(len(neymar_similarities) == 5)\n",
    "assert(isinstance(neymar_similarities, list))\n",
    "for i in range(5):\n",
    "    assert(isinstance(neymar_similarities[i], str))"
   ]
  },
  {
   "cell_type": "markdown",
   "id": "a3a7f878",
   "metadata": {},
   "source": [
    "**Task 11 (1 point).** Calculate the number of home matches played by the **Borussia Dortmund** team in **Germany 1. Bundesliga** in season **2008/2009**"
   ]
  },
  {
   "cell_type": "code",
   "execution_count": 140,
   "id": "bdf5a267",
   "metadata": {},
   "outputs": [],
   "source": [
    "borussia_id = team_data[team_data['team_long_name'] == 'Borussia Dortmund']['team_api_id'].values[0]\n",
    "bundesliga_id = league_data[league_data['name'] == 'Germany 1. Bundesliga']['id'].values[0]\n",
    "borussia_bundesliga_2008_2009_matches = match_data[(match_data['season'] == '2008/2009') & \\\n",
    "                                                   (match_data['league_id'] == bundesliga_id) & \\\n",
    "                                                   (match_data['home_team_api_id'] == borussia_id)].shape[0]"
   ]
  },
  {
   "cell_type": "code",
   "execution_count": 141,
   "id": "488fdd4c",
   "metadata": {},
   "outputs": [],
   "source": [
    "assert(isinstance(borussia_bundesliga_2008_2009_matches, int))"
   ]
  },
  {
   "cell_type": "markdown",
   "id": "69dca9a5",
   "metadata": {},
   "source": [
    "**Task 12 (1 point).** Find a team having the most matches (both home and away!) in the **Germany 1. Bundesliga** in **2008/2009** season. Return number of matches."
   ]
  },
  {
   "cell_type": "code",
   "execution_count": 142,
   "id": "9969ba5c",
   "metadata": {},
   "outputs": [],
   "source": [
    "home_matches_per_team = match_data[(match_data['season'] == '2008/2009') & \\\n",
    "                                   (match_data['league_id'] == bundesliga_id)] \\\n",
    "                                   .groupby(['home_team_api_id']).size()\n",
    "away_matches_per_team = match_data[(match_data['season'] == '2008/2009') & \\\n",
    "                                   (match_data['league_id'] == bundesliga_id)] \\\n",
    "                                   .groupby(['away_team_api_id']).size()\n",
    "df = pd.concat([home_matches_per_team, away_matches_per_team], axis=1)\n",
    "df['total'] = df[0] + df[1]\n",
    "team_most_matches_bundesliga_2008_2009 = max(df['total'])"
   ]
  },
  {
   "cell_type": "code",
   "execution_count": 143,
   "id": "ef3b8fa2",
   "metadata": {},
   "outputs": [],
   "source": [
    "assert(isinstance(team_most_matches_bundesliga_2008_2009, int))"
   ]
  },
  {
   "cell_type": "markdown",
   "id": "2f3c65aa",
   "metadata": {},
   "source": [
    "**Task 13 (1 point).** Count total number of **Arsenal** matches (both home and away!) in the **2015/2016** season which they have won. <br><br>\n",
    "**Note:** Winning a game means scoring **more** goals than an opponent."
   ]
  },
  {
   "cell_type": "code",
   "execution_count": 203,
   "id": "52456f34",
   "metadata": {},
   "outputs": [
    {
     "data": {
      "text/plain": [
       "20"
      ]
     },
     "execution_count": 203,
     "metadata": {},
     "output_type": "execute_result"
    }
   ],
   "source": [
    "arsenal_id = team_data[team_data['team_long_name'] == 'Arsenal']['team_api_id'].values[0]\n",
    "arsenal_2015_2016_won_home = match_data[(match_data['season'] == '2015/2016') & \\\n",
    "                                    (match_data['home_team_api_id'] == arsenal_id) & \\\n",
    "                                    (match_data['home_team_goal'] > match_data['away_team_goal'])].shape[0]\n",
    "arsenal_2015_2016_won_away = match_data[(match_data['season'] == '2015/2016') & \\\n",
    "                                    (match_data['away_team_api_id'] == arsenal_id) & \\\n",
    "                                    (match_data['away_team_goal'] > match_data['home_team_goal'])].shape[0]\n",
    "arsenal_won_matches_2015_2016 = arsenal_2015_2016_won_home + arsenal_2015_2016_won_away"
   ]
  },
  {
   "cell_type": "code",
   "execution_count": 145,
   "id": "214d9689",
   "metadata": {},
   "outputs": [],
   "source": [
    "assert(isinstance(arsenal_won_matches_2015_2016, int))"
   ]
  },
  {
   "cell_type": "markdown",
   "id": "d70d5b23",
   "metadata": {},
   "source": [
    "\n",
    "**Task 14 (2 points).** Find a team with the highest win rate in the **2015/2016** season. Win rate means won matches / all matches. If there are several teams with the highest win rate return the first by name in lexical order"
   ]
  },
  {
   "cell_type": "code",
   "execution_count": 245,
   "id": "b1aa7db0",
   "metadata": {},
   "outputs": [],
   "source": [
    "matches_2015_2016 = match_data[(match_data['season'] == '2015/2016')]\n",
    "\n",
    "home = matches_2015_2016.groupby(['home_team_api_id']).size()\n",
    "away = matches_2015_2016.groupby(['away_team_api_id']).size()\n",
    "total = (home + away).reset_index()\n",
    "\n",
    "won_home = matches_2015_2016[matches_2015_2016['home_team_goal'] > matches_2015_2016['away_team_goal']] \\\n",
    "           .groupby(['home_team_api_id']).size()\n",
    "won_away = matches_2015_2016[matches_2015_2016['away_team_goal'] > matches_2015_2016['home_team_goal']] \\\n",
    "           .groupby(['away_team_api_id']).size()\n",
    "won_total = (won_home + won_away).reset_index()\n",
    "\n",
    "total['win_rate'] = won_total[0] / total[0]\n",
    "\n",
    "total = total.merge(team_data[['team_api_id', 'team_long_name']], \n",
    "                    left_on='home_team_api_id', right_on='team_api_id') \\\n",
    "             .sort_values(['win_rate', 'team_long_name'], ascending=(False, True))\n",
    "\n",
    "team_highest_winrate_2015_2016 = total['team_long_name'].iloc[0]"
   ]
  },
  {
   "cell_type": "code",
   "execution_count": 246,
   "id": "b4cc8e46",
   "metadata": {},
   "outputs": [],
   "source": [
    "assert(isinstance(team_highest_winrate_2015_2016, str))"
   ]
  },
  {
   "cell_type": "markdown",
   "id": "f7f3b4f5",
   "metadata": {},
   "source": [
    "**Task 15 (2 points).** Determine the team with the maximum days' gap between matches in **England Premier League 2010/2011 season**. Return number of days in that gap. <br>\n",
    "**Note**: a *gap* means the number of days between two consecutive matches of the same team."
   ]
  },
  {
   "cell_type": "code",
   "execution_count": 290,
   "id": "a4c33e5f",
   "metadata": {},
   "outputs": [
    {
     "name": "stderr",
     "output_type": "stream",
     "text": [
      "/Users/dariasultanova/opt/anaconda3/lib/python3.8/site-packages/pandas/core/frame.py:4441: SettingWithCopyWarning: \n",
      "A value is trying to be set on a copy of a slice from a DataFrame\n",
      "\n",
      "See the caveats in the documentation: https://pandas.pydata.org/pandas-docs/stable/user_guide/indexing.html#returning-a-view-versus-a-copy\n",
      "  return super().rename(\n"
     ]
    }
   ],
   "source": [
    "match_data['date'] = pd.to_datetime(match_data['date'])\n",
    "\n",
    "epl_id = league_data[league_data['name'] == 'England Premier League']['id'].values[0]\n",
    "epl_2010_2011 = match_data[(match_data['season'] == '2010/2011') & (match_data['league_id'] == epl_id)]\n",
    "\n",
    "df = epl_2010_2011[['date','home_team_api_id','away_team_api_id']].sort_values('date')\n",
    "dates_h = df[['date', 'home_team_api_id']]\n",
    "dates_h.rename(columns = {'home_team_api_id':'team_api_id'}, inplace = True)\n",
    "dates_a = df[['date', 'away_team_api_id']]\n",
    "dates_a.rename(columns = {'away_team_api_id':'team_api_id'}, inplace = True)\n",
    "dates = dates_h.append(dates_a)\n",
    "\n",
    "highest_gap_england_2010_2011 = dates.sort_values(['team_api_id', 'date'])['date'].diff().max().days\n"
   ]
  },
  {
   "cell_type": "code",
   "execution_count": 291,
   "id": "5f7aa84e",
   "metadata": {},
   "outputs": [],
   "source": [
    "assert(isinstance(highest_gap_england_2010_2011, int))"
   ]
  },
  {
   "cell_type": "markdown",
   "id": "acecc77f",
   "metadata": {},
   "source": [
    "### Warning! Do not change anything in the area below"
   ]
  },
  {
   "cell_type": "code",
   "execution_count": 150,
   "id": "94c3b9be",
   "metadata": {},
   "outputs": [],
   "source": [
    "with open('student_answers.txt', 'w') as file:\n",
    "    file.write(f\"{players_180_190}\\n\")\n",
    "    file.write(f\"{players_1980}\\n\")\n",
    "    file.write(f\"{highest_players}\\n\")\n",
    "    file.write(f\"{years_born_players}\\n\")\n",
    "    file.write(f\"{round(adriano_mean, 3)} {round(adriano_std, 3)}\\n\")\n",
    "    file.write(f\"{dow_with_min_players_born}\\n\")\n",
    "    file.write(f\"{league_most_matches}\\n\")\n",
    "    file.write(f\"{max_matches_player}\\n\")\n",
    "    file.write(f\"{';'.join(['%s,%s' % tup for tup in top_correlated_features])};\\n\")\n",
    "    file.write(f\"{neymar_similarities}\\n\")\n",
    "    file.write(f\"{borussia_bundesliga_2008_2009_matches}\\n\")\n",
    "    file.write(f\"{team_most_matches_bundesliga_2008_2009}\\n\")\n",
    "    file.write(f\"{arsenal_won_matches_2015_2016}\\n\")\n",
    "    file.write(f\"{team_highest_winrate_2015_2016}\\n\")\n",
    "    file.write(f\"{highest_gap_england_2010_2011}\\n\")"
   ]
  }
 ],
 "metadata": {
  "kernelspec": {
   "display_name": "Python 3",
   "language": "python",
   "name": "python3"
  },
  "language_info": {
   "codemirror_mode": {
    "name": "ipython",
    "version": 3
   },
   "file_extension": ".py",
   "mimetype": "text/x-python",
   "name": "python",
   "nbconvert_exporter": "python",
   "pygments_lexer": "ipython3",
   "version": "3.8.8"
  }
 },
 "nbformat": 4,
 "nbformat_minor": 5
}
